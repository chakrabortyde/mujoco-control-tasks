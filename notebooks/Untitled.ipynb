{
 "cells": [
  {
   "cell_type": "code",
   "execution_count": 1,
   "id": "b4886d09",
   "metadata": {
    "pycharm": {
     "name": "#%%\n"
    }
   },
   "outputs": [],
   "source": [
    "import gym\n",
    "import random\n",
    "import numpy as np\n",
    "from tqdm import tqdm\n",
    "import tensorflow as tf\n",
    "from tensorflow.keras.models import Sequential, Model\n",
    "from tensorflow.keras.layers import Dense, Activation, concatenate"
   ]
  },
  {
   "cell_type": "code",
   "execution_count": 2,
   "id": "843a3d82",
   "metadata": {
    "pycharm": {
     "name": "#%%\n"
    }
   },
   "outputs": [],
   "source": [
    "def ou_noise(x, mu, sigma, theta):\n",
    "    return theta * (mu - x) + sigma * np.random.randn(1)"
   ]
  },
  {
   "cell_type": "code",
   "execution_count": 3,
   "id": "c9dfd090",
   "metadata": {
    "pycharm": {
     "name": "#%%\n"
    }
   },
   "outputs": [],
   "source": [
    "def actor_network(env):\n",
    "    actor = Sequential()\n",
    "    actor.add(Dense(32, input_shape=(env.observation_space.shape[0],)))\n",
    "    actor.add(Activation('relu'))\n",
    "    actor.add(Dense(16))\n",
    "    actor.add(Activation('relu'))\n",
    "    actor.add(Dense(env.action_space.shape[0]))\n",
    "    actor.add(Activation('linear'))\n",
    "    return actor"
   ]
  },
  {
   "cell_type": "code",
   "execution_count": 4,
   "id": "11cb34e1",
   "metadata": {
    "pycharm": {
     "name": "#%%\n"
    }
   },
   "outputs": [],
   "source": [
    "def critic_network(env):\n",
    "    action_input = tf.keras.Input((env.action_space.shape[0],))\n",
    "    state_input = tf.keras.Input((env.observation_space.shape[0],))\n",
    "    concatenate_input = concatenate([state_input, action_input])\n",
    "    critic = Dense(32)(concatenate_input)\n",
    "    critic = Activation('relu')(critic)\n",
    "    critic = Dense(16)(critic)\n",
    "    critic = Activation('relu')(critic)\n",
    "    critic = Dense(1)(critic)\n",
    "    critic = Activation('linear')(critic)\n",
    "    critic = tf.keras.Model(inputs=[state_input, action_input], outputs=critic)\n",
    "    return critic"
   ]
  },
  {
   "cell_type": "code",
   "execution_count": 5,
   "id": "cd7e4750",
   "metadata": {
    "pycharm": {
     "name": "#%%\n"
    }
   },
   "outputs": [],
   "source": [
    "def actor_loss(critic, state):\n",
    "    def maximize_Q(action_true, action_pred):\n",
    "        return - critic([tf.reshape(state, (1, -1)), tf.reshape(action_pred, (1, action_pred.shape[1]))])\n",
    "    return maximize_Q"
   ]
  },
  {
   "cell_type": "code",
   "execution_count": 6,
   "id": "d51f9f77",
   "metadata": {
    "pycharm": {
     "name": "#%%\n"
    }
   },
   "outputs": [],
   "source": [
    "def critic_loss():\n",
    "    def mse(y, Q):\n",
    "        return tf.reduce_mean(tf.square(y - Q))\n",
    "    return mse"
   ]
  },
  {
   "cell_type": "code",
   "execution_count": 7,
   "id": "636eb663",
   "metadata": {
    "pycharm": {
     "name": "#%%\n"
    }
   },
   "outputs": [],
   "source": [
    "def target_network_loss(tau, weights, target_weights):\n",
    "    updated_weights = []\n",
    "    for i, weight in enumerate(weights):\n",
    "        updated_weights.append(tau * weight + (1 - tau) * target_weights[i])\n",
    "    return updated_weights"
   ]
  },
  {
   "cell_type": "code",
   "execution_count": 8,
   "id": "eb58efd5",
   "metadata": {
    "pycharm": {
     "name": "#%%\n"
    }
   },
   "outputs": [],
   "source": [
    "def set_replay_buffer(mem_limit, env):\n",
    "    memory_buffer = []\n",
    "    for _ in range(mem_limit):\n",
    "        observation = env.reset().reshape(1, -1)\n",
    "        action = env.action_space.sample().reshape(1, -1)\n",
    "        next_observation, reward, _, __ = env.step(action)\n",
    "        memory_buffer.append([observation, action, reward, next_observation.reshape(1, -1)])\n",
    "    return memory_buffer"
   ]
  },
  {
   "cell_type": "code",
   "execution_count": 9,
   "id": "0a604c9e",
   "metadata": {
    "pycharm": {
     "name": "#%%\n"
    }
   },
   "outputs": [],
   "source": [
    "mu = 0\n",
    "N = 100\n",
    "tau = 0.99\n",
    "sigma = 0.3\n",
    "theta = 0.15\n",
    "mem_limit = 10000\n",
    "discount_factor = 0.4\n",
    "env = gym.make(\"Ant-v2\")"
   ]
  },
  {
   "cell_type": "code",
   "execution_count": 10,
   "id": "f2df3ee6",
   "metadata": {
    "pycharm": {
     "name": "#%%\n"
    }
   },
   "outputs": [
    {
     "name": "stdout",
     "output_type": "stream",
     "text": [
      "Model: \"sequential\"\n",
      "_________________________________________________________________\n",
      "Layer (type)                 Output Shape              Param #   \n",
      "=================================================================\n",
      "dense (Dense)                (None, 32)                3584      \n",
      "_________________________________________________________________\n",
      "activation (Activation)      (None, 32)                0         \n",
      "_________________________________________________________________\n",
      "dense_1 (Dense)              (None, 16)                528       \n",
      "_________________________________________________________________\n",
      "activation_1 (Activation)    (None, 16)                0         \n",
      "_________________________________________________________________\n",
      "dense_2 (Dense)              (None, 8)                 136       \n",
      "_________________________________________________________________\n",
      "activation_2 (Activation)    (None, 8)                 0         \n",
      "=================================================================\n",
      "Total params: 4,248\n",
      "Trainable params: 4,248\n",
      "Non-trainable params: 0\n",
      "_________________________________________________________________\n"
     ]
    }
   ],
   "source": [
    "actor = actor_network(env)\n",
    "actor.summary()"
   ]
  },
  {
   "cell_type": "code",
   "execution_count": 11,
   "id": "01649529",
   "metadata": {
    "pycharm": {
     "name": "#%%\n"
    }
   },
   "outputs": [
    {
     "name": "stdout",
     "output_type": "stream",
     "text": [
      "Model: \"model\"\n",
      "__________________________________________________________________________________________________\n",
      "Layer (type)                    Output Shape         Param #     Connected to                     \n",
      "==================================================================================================\n",
      "input_2 (InputLayer)            [(None, 111)]        0                                            \n",
      "__________________________________________________________________________________________________\n",
      "input_1 (InputLayer)            [(None, 8)]          0                                            \n",
      "__________________________________________________________________________________________________\n",
      "concatenate (Concatenate)       (None, 119)          0           input_2[0][0]                    \n",
      "                                                                 input_1[0][0]                    \n",
      "__________________________________________________________________________________________________\n",
      "dense_3 (Dense)                 (None, 32)           3840        concatenate[0][0]                \n",
      "__________________________________________________________________________________________________\n",
      "activation_3 (Activation)       (None, 32)           0           dense_3[0][0]                    \n",
      "__________________________________________________________________________________________________\n",
      "dense_4 (Dense)                 (None, 16)           528         activation_3[0][0]               \n",
      "__________________________________________________________________________________________________\n",
      "activation_4 (Activation)       (None, 16)           0           dense_4[0][0]                    \n",
      "__________________________________________________________________________________________________\n",
      "dense_5 (Dense)                 (None, 1)            17          activation_4[0][0]               \n",
      "__________________________________________________________________________________________________\n",
      "activation_5 (Activation)       (None, 1)            0           dense_5[0][0]                    \n",
      "==================================================================================================\n",
      "Total params: 4,385\n",
      "Trainable params: 4,385\n",
      "Non-trainable params: 0\n",
      "__________________________________________________________________________________________________\n"
     ]
    }
   ],
   "source": [
    "critic = critic_network(env)\n",
    "critic.summary()"
   ]
  },
  {
   "cell_type": "code",
   "execution_count": 12,
   "id": "b607b9a6",
   "metadata": {
    "pycharm": {
     "name": "#%%\n"
    }
   },
   "outputs": [
    {
     "name": "stdout",
     "output_type": "stream",
     "text": [
      "Model: \"sequential_1\"\n",
      "_________________________________________________________________\n",
      "Layer (type)                 Output Shape              Param #   \n",
      "=================================================================\n",
      "dense_6 (Dense)              (None, 32)                3584      \n",
      "_________________________________________________________________\n",
      "activation_6 (Activation)    (None, 32)                0         \n",
      "_________________________________________________________________\n",
      "dense_7 (Dense)              (None, 16)                528       \n",
      "_________________________________________________________________\n",
      "activation_7 (Activation)    (None, 16)                0         \n",
      "_________________________________________________________________\n",
      "dense_8 (Dense)              (None, 8)                 136       \n",
      "_________________________________________________________________\n",
      "activation_8 (Activation)    (None, 8)                 0         \n",
      "=================================================================\n",
      "Total params: 4,248\n",
      "Trainable params: 4,248\n",
      "Non-trainable params: 0\n",
      "_________________________________________________________________\n"
     ]
    }
   ],
   "source": [
    "target_actor = actor_network(env)\n",
    "target_actor.set_weights(actor.get_weights())\n",
    "target_actor.summary()"
   ]
  },
  {
   "cell_type": "code",
   "execution_count": 13,
   "id": "05ea2080",
   "metadata": {
    "pycharm": {
     "name": "#%%\n"
    }
   },
   "outputs": [
    {
     "name": "stdout",
     "output_type": "stream",
     "text": [
      "Model: \"model_1\"\n",
      "__________________________________________________________________________________________________\n",
      "Layer (type)                    Output Shape         Param #     Connected to                     \n",
      "==================================================================================================\n",
      "input_4 (InputLayer)            [(None, 111)]        0                                            \n",
      "__________________________________________________________________________________________________\n",
      "input_3 (InputLayer)            [(None, 8)]          0                                            \n",
      "__________________________________________________________________________________________________\n",
      "concatenate_1 (Concatenate)     (None, 119)          0           input_4[0][0]                    \n",
      "                                                                 input_3[0][0]                    \n",
      "__________________________________________________________________________________________________\n",
      "dense_9 (Dense)                 (None, 32)           3840        concatenate_1[0][0]              \n",
      "__________________________________________________________________________________________________\n",
      "activation_9 (Activation)       (None, 32)           0           dense_9[0][0]                    \n",
      "__________________________________________________________________________________________________\n",
      "dense_10 (Dense)                (None, 16)           528         activation_9[0][0]               \n",
      "__________________________________________________________________________________________________\n",
      "activation_10 (Activation)      (None, 16)           0           dense_10[0][0]                   \n",
      "__________________________________________________________________________________________________\n",
      "dense_11 (Dense)                (None, 1)            17          activation_10[0][0]              \n",
      "__________________________________________________________________________________________________\n",
      "activation_11 (Activation)      (None, 1)            0           dense_11[0][0]                   \n",
      "==================================================================================================\n",
      "Total params: 4,385\n",
      "Trainable params: 4,385\n",
      "Non-trainable params: 0\n",
      "__________________________________________________________________________________________________\n"
     ]
    }
   ],
   "source": [
    "target_critic = critic_network(env)\n",
    "target_critic.set_weights(critic.get_weights())\n",
    "target_critic.summary()"
   ]
  },
  {
   "cell_type": "code",
   "execution_count": 14,
   "id": "e9dcaca8",
   "metadata": {
    "pycharm": {
     "name": "#%%\n"
    }
   },
   "outputs": [],
   "source": [
    "actor.compile(optimizer='adam', loss=actor_loss(critic, env.reset().reshape(-1, 1)))"
   ]
  },
  {
   "cell_type": "code",
   "execution_count": 15,
   "id": "4fc5917c",
   "metadata": {
    "pycharm": {
     "name": "#%%\n"
    }
   },
   "outputs": [],
   "source": [
    "critic.compile(optimizer='adam', loss=critic_loss())"
   ]
  },
  {
   "cell_type": "code",
   "execution_count": 16,
   "id": "2881345e",
   "metadata": {
    "pycharm": {
     "name": "#%%\n"
    }
   },
   "outputs": [],
   "source": [
    "replay_buffer = set_replay_buffer(mem_limit, env)"
   ]
  },
  {
   "cell_type": "code",
   "execution_count": 17,
   "id": "9ff5a4f6",
   "metadata": {
    "pycharm": {
     "name": "#%%\n"
    },
    "scrolled": false
   },
   "outputs": [
    {
     "name": "stderr",
     "output_type": "stream",
     "text": [
      " 10%|█         | 1/10 [00:38<05:46, 38.45s/it]"
     ]
    },
    {
     "name": "stdout",
     "output_type": "stream",
     "text": [
      "Average Reward: -3.60272475283096  Step: 173\n"
     ]
    },
    {
     "name": "stderr",
     "output_type": "stream",
     "text": [
      "\r",
      " 20%|██        | 2/10 [04:17<19:19, 144.93s/it]"
     ]
    },
    {
     "name": "stdout",
     "output_type": "stream",
     "text": [
      "Average Reward: -2.627168649728635  Step: 1000\n"
     ]
    },
    {
     "name": "stderr",
     "output_type": "stream",
     "text": [
      "\r",
      " 30%|███       | 3/10 [07:51<20:35, 176.49s/it]"
     ]
    },
    {
     "name": "stdout",
     "output_type": "stream",
     "text": [
      "Average Reward: -1.9677854651851605  Step: 1000\n"
     ]
    },
    {
     "name": "stderr",
     "output_type": "stream",
     "text": [
      "\r",
      " 40%|████      | 4/10 [11:15<18:43, 187.17s/it]"
     ]
    },
    {
     "name": "stdout",
     "output_type": "stream",
     "text": [
      "Average Reward: -1.294204787597786  Step: 950\n"
     ]
    },
    {
     "name": "stderr",
     "output_type": "stream",
     "text": [
      "\r",
      " 50%|█████     | 5/10 [14:49<16:24, 196.87s/it]"
     ]
    },
    {
     "name": "stdout",
     "output_type": "stream",
     "text": [
      "Average Reward: -1.7045887067176337  Step: 1000\n"
     ]
    },
    {
     "name": "stderr",
     "output_type": "stream",
     "text": [
      "\r",
      " 60%|██████    | 6/10 [18:23<13:30, 202.74s/it]"
     ]
    },
    {
     "name": "stdout",
     "output_type": "stream",
     "text": [
      "Average Reward: -0.7855829708490001  Step: 1000\n"
     ]
    },
    {
     "name": "stderr",
     "output_type": "stream",
     "text": [
      "\r",
      " 70%|███████   | 7/10 [21:59<10:20, 206.96s/it]"
     ]
    },
    {
     "name": "stdout",
     "output_type": "stream",
     "text": [
      "Average Reward: -0.5709716178153303  Step: 1000\n"
     ]
    },
    {
     "name": "stderr",
     "output_type": "stream",
     "text": [
      "\r",
      " 80%|████████  | 8/10 [25:34<06:59, 209.52s/it]"
     ]
    },
    {
     "name": "stdout",
     "output_type": "stream",
     "text": [
      "Average Reward: -0.6451678852228392  Step: 1000\n"
     ]
    },
    {
     "name": "stderr",
     "output_type": "stream",
     "text": [
      "\r",
      " 90%|█████████ | 9/10 [29:09<03:31, 211.26s/it]"
     ]
    },
    {
     "name": "stdout",
     "output_type": "stream",
     "text": [
      "Average Reward: -0.9009272506314983  Step: 1000\n"
     ]
    },
    {
     "name": "stderr",
     "output_type": "stream",
     "text": [
      "100%|██████████| 10/10 [32:43<00:00, 196.35s/it]"
     ]
    },
    {
     "name": "stdout",
     "output_type": "stream",
     "text": [
      "Average Reward: -0.5746881089840349  Step: 1000\n"
     ]
    },
    {
     "name": "stderr",
     "output_type": "stream",
     "text": [
      "\n"
     ]
    }
   ],
   "source": [
    "for episode in tqdm(range(10)):\n",
    "    observation, done = env.reset().reshape(1, -1), False\n",
    "    avg_reward = 0\n",
    "    count = 0\n",
    "    noise = np.random.randn(1, env.action_space.shape[0])\n",
    "\n",
    "    while not done:\n",
    "        action = actor.predict(observation) + ou_noise(noise, mu, sigma, theta)\n",
    "        next_observation, reward, done, _ = env.step(action)\n",
    "        next_observation = next_observation.reshape(1, -1)\n",
    "        replay_buffer.append([observation, action, reward, next_observation])\n",
    "        minibatch = random.sample(replay_buffer, (N % len(replay_buffer)))\n",
    "        y = reward + (discount_factor * target_critic.predict(\n",
    "            [next_observation, target_actor.predict(next_observation)]))\n",
    "\n",
    "        # y = []\n",
    "        # observations = []\n",
    "        # actions = []\n",
    "        # for index in range(len(minibatch)):\n",
    "        #     y.append(minibatch[index][2] + discount_factor * target_critic.predict([minibatch[index][3], target_actor.predict(minibatch[index][3])]).flatten())\n",
    "        #     observations.append(minibatch[index][0].flatten())\n",
    "        #     actions.append(minibatch[index][1].flatten())\n",
    "        #\n",
    "        # observations = np.array(observations).reshape(N, env.observation_space.shape[0])\n",
    "        # actions = np.array(actions).reshape(N, env.action_space.shape[0])\n",
    "        # y = np.array(y).reshape(N, 1)\n",
    "\n",
    "        critic.fit(x=[observation, action], y=y, verbose=0)\n",
    "        actor.fit(x=observation, y=action, verbose=0)\n",
    "\n",
    "        target_critic.set_weights(target_network_loss(tau, critic.weights, target_critic.weights))\n",
    "        target_actor.set_weights(target_network_loss(tau, actor.weights, target_actor.weights))\n",
    "\n",
    "        count += 1\n",
    "        avg_reward += reward\n",
    "        observation = next_observation\n",
    "\n",
    "#         print(\"Step: \", count + 1, \"Total Reward per epoch: \", avg_reward)\n",
    "    print(\"Average Reward:\", avg_reward / count, \" Step:\", count)"
   ]
  },
  {
   "cell_type": "code",
   "execution_count": 19,
   "id": "888f1bd6",
   "metadata": {},
   "outputs": [],
   "source": [
    "obs = env.reset().reshape(1, -1)\n",
    "while not done:\n",
    "    obs, _, __, ___ = env.step(actor.predict(obs))\n",
    "    obs = obs.reshape(1, -1)\n",
    "env.close()"
   ]
  },
  {
   "cell_type": "code",
   "execution_count": null,
   "id": "ac1f9403",
   "metadata": {},
   "outputs": [],
   "source": []
  }
 ],
 "metadata": {
  "kernelspec": {
   "display_name": "Python 3",
   "language": "python",
   "name": "python3"
  },
  "language_info": {
   "codemirror_mode": {
    "name": "ipython",
    "version": 3
   },
   "file_extension": ".py",
   "mimetype": "text/x-python",
   "name": "python",
   "nbconvert_exporter": "python",
   "pygments_lexer": "ipython3",
   "version": "3.6.8"
  }
 },
 "nbformat": 4,
 "nbformat_minor": 5
}